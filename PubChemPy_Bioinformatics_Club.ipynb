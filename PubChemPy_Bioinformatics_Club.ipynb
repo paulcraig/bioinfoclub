{
 "cells": [
  {
   "cell_type": "markdown",
   "id": "2e08088c-11bc-4caa-b9b8-fab8f644ca6d",
   "metadata": {},
   "source": [
    "# PubChemPy for the Bioinformatics Club\n",
    "This notebooks is designed to introduced you to PubChemPy, a library for working with [PubChem](https://www.example.com) resource. To use pubchempy, you'll need to either use the command\n",
    "\n",
    "```pip install pubchempy```\n",
    "\n",
    "on your command line or use the command\n",
    "\n",
    "```!pip install pubchempy```\n",
    "\n",
    "in the first coding cell in this notebook."
   ]
  },
  {
   "cell_type": "code",
   "execution_count": null,
   "id": "99863971-34dd-421b-930e-8b15bc3a96b0",
   "metadata": {},
   "outputs": [],
   "source": [
    "!pip install pubchempy"
   ]
  },
  {
   "cell_type": "markdown",
   "id": "ea920a75-7599-4278-9f0d-6502a9b9c72c",
   "metadata": {},
   "source": [
    "Once you have installed pubchempy on your computer, you'll need to import it to use it. The standard abbreviation for pubchempy is pcp."
   ]
  },
  {
   "cell_type": "code",
   "execution_count": 2,
   "id": "a96e4212-255e-414f-b25b-6e708d92ae2f",
   "metadata": {},
   "outputs": [],
   "source": [
    "import pubchempy as pcp"
   ]
  },
  {
   "cell_type": "markdown",
   "id": "a24273d1-edea-4787-b772-7e69a9006c7c",
   "metadata": {},
   "source": [
    "Now let's play with it a bit. We're going to learn a bit about the compound object that pubchempy creates, starting with NAD+, a compound I worked with every day in graduate school. In the next cell, use the \n",
    "\n",
    "```Compound.from_cid(compound#)```\n",
    "\n",
    "command to pull NAD+ from PubChem."
   ]
  },
  {
   "cell_type": "code",
   "execution_count": 3,
   "id": "d6b1241a-5142-482d-979e-4b472d92f2ad",
   "metadata": {},
   "outputs": [],
   "source": [
    "molecule = pcp.Compound.from_cid(5287958)"
   ]
  },
  {
   "cell_type": "markdown",
   "id": "262d841e-32b3-4c2d-b985-05d9b40d7ac8",
   "metadata": {},
   "source": [
    "Now we will use explore the contents of the compound object that can be extracted using the command\n",
    "\n",
    "```molecule = c.trait```\n",
    "\n",
    "where trait can be molecular_weight, molecular_formula, isomeric_smiles, xlogp, iupac_name, and synonyms. You can also select any trait from a menu if you type\n",
    "\n",
    "```print(molecule.<tab>)```\n",
    "\n",
    "where <tab> means to hit the tab kit so you can see all options. Try a few."
   ]
  },
  {
   "cell_type": "code",
   "execution_count": 4,
   "id": "ff906ce6-dc2c-45c5-967e-2139ecc8cd7a",
   "metadata": {},
   "outputs": [
    {
     "name": "stdout",
     "output_type": "stream",
     "text": [
      "663.4\n"
     ]
    }
   ],
   "source": [
    "print(molecule.molecular_weight)"
   ]
  },
  {
   "cell_type": "code",
   "execution_count": 5,
   "id": "d15cc9b4-92a5-49c7-8060-51910cfaf144",
   "metadata": {},
   "outputs": [
    {
     "name": "stdout",
     "output_type": "stream",
     "text": [
      "C21H27N7O14P2\n"
     ]
    }
   ],
   "source": [
    "print(molecule.molecular_formula)"
   ]
  },
  {
   "cell_type": "code",
   "execution_count": 6,
   "id": "a782d34a-f886-4bc4-a884-6661b92e9df6",
   "metadata": {},
   "outputs": [
    {
     "name": "stdout",
     "output_type": "stream",
     "text": [
      "C1=C(C=[NH+]C=C1C(=O)N)[C@H]2[C@@H]([C@@H]([C@H](O2)COP(=O)([O-])OP(=O)(O)OC[C@@H]3[C@H]([C@H]([C@@H](O3)N4C=NC5=C(N=CN=C54)N)O)O)O)O\n"
     ]
    }
   ],
   "source": [
    "print(molecule.isomeric_smiles)"
   ]
  },
  {
   "cell_type": "code",
   "execution_count": 7,
   "id": "9d212ea5-93d1-4db8-8999-902900af76d5",
   "metadata": {},
   "outputs": [
    {
     "name": "stdout",
     "output_type": "stream",
     "text": [
      "-6.2\n"
     ]
    }
   ],
   "source": [
    "print(molecule.xlogp)"
   ]
  },
  {
   "cell_type": "code",
   "execution_count": 8,
   "id": "371e50ea-e620-444b-807d-1cb9cc12404b",
   "metadata": {
    "scrolled": true
   },
   "outputs": [
    {
     "name": "stdout",
     "output_type": "stream",
     "text": [
      "[[(2R,3S,4R,5R)-5-(6-aminopurin-9-yl)-3,4-dihydroxyoxolan-2-yl]methoxy-hydroxyphosphoryl] [(2R,3S,4R,5S)-5-(5-carbamoylpyridin-1-ium-3-yl)-3,4-dihydroxyoxolan-2-yl]methyl phosphate\n"
     ]
    }
   ],
   "source": [
    "print(molecule.iupac_name)"
   ]
  },
  {
   "cell_type": "code",
   "execution_count": 9,
   "id": "671048a6-efc7-4b6e-90a2-2d292f87cf6e",
   "metadata": {},
   "outputs": [
    {
     "name": "stdout",
     "output_type": "stream",
     "text": [
      "['5-BETA-D-RIBOFURANOSYLNICOTINAMIDE ADENINE DINUCLEOTIDE', 'DB03020']\n"
     ]
    }
   ],
   "source": [
    "print(molecule.synonyms)"
   ]
  },
  {
   "cell_type": "markdown",
   "id": "7e871018-ace9-412e-95a7-65688d6d71aa",
   "metadata": {},
   "source": [
    "What if you don't know the PubChem cid for your compound of interest? pubchempy has a get_compound function that addresses this."
   ]
  },
  {
   "cell_type": "code",
   "execution_count": 14,
   "id": "79f0e973-8da4-47bd-a2a2-1a866910caac",
   "metadata": {},
   "outputs": [
    {
     "name": "stdout",
     "output_type": "stream",
     "text": [
      "[Compound(5892), Compound(5288979), Compound(21604869), Compound(444170), Compound(10897651), Compound(5289104), Compound(444215), Compound(127255362), Compound(16219771), Compound(925), Compound(24916815), Compound(72200610), Compound(9874504), Compound(25162925), Compound(111288), Compound(90663709), Compound(163190097), Compound(6604186), Compound(12358825), Compound(4231851), Compound(4349538), Compound(5287958), Compound(196623), Compound(134720244), Compound(46936879), Compound(146167235), Compound(16758169), Compound(5315996), Compound(134559577), Compound(90657086), Compound(138105875), Compound(146019234), Compound(154701110), Compound(154701119), Compound(45109817), Compound(129630323), Compound(86289063), Compound(6419894), Compound(45105095), Compound(169424640), Compound(3283972), Compound(23644209), Compound(44297758), Compound(44297952), Compound(46936557), Compound(46936558), Compound(46936878), Compound(59148228), Compound(59148240), Compound(71751003), Compound(89130906), Compound(89130910), Compound(90348259), Compound(90348260), Compound(140621828), Compound(140875345), Compound(140966054), Compound(145833670), Compound(146619582), Compound(153484382), Compound(156573410), Compound(168835195), Compound(3283971), Compound(9939577), Compound(11028748), Compound(11285297), Compound(12358821), Compound(17753910), Compound(17753911), Compound(17754099), Compound(23644208), Compound(44119953), Compound(44415181), Compound(46875579), Compound(57368314), Compound(73951885), Compound(78174192), Compound(102602071), Compound(122172989), Compound(124081971), Compound(131865506), Compound(137269391), Compound(138753054), Compound(155289987), Compound(163184647), Compound(163199104), Compound(163335578), Compound(163457800), Compound(168006970), Compound(169444669), Compound(169444671), Compound(169449933), Compound(170452079), Compound(171324827)]\n"
     ]
    }
   ],
   "source": [
    "results = pcp.get_compounds('C21H27N7O14P2', 'formula')\n",
    "print(results)"
   ]
  },
  {
   "cell_type": "code",
   "execution_count": 15,
   "id": "6fadaa26-e837-42ae-a1a0-631cc7f4c1f2",
   "metadata": {},
   "outputs": [
    {
     "data": {
      "text/plain": [
       "[Compound(1983)]"
      ]
     },
     "execution_count": 15,
     "metadata": {},
     "output_type": "execute_result"
    }
   ],
   "source": [
    "pcp.get_compounds('tylenol', 'name', record_type='3d')"
   ]
  },
  {
   "cell_type": "code",
   "execution_count": 17,
   "id": "c3878687-fdf6-455e-a22b-38de98b86e1c",
   "metadata": {},
   "outputs": [
    {
     "name": "stdout",
     "output_type": "stream",
     "text": [
      "N-(4-hydroxyphenyl)acetamide\n",
      "151.16\n",
      "C8H9NO2\n",
      "['acetaminophen', 'Paracetamol', '4-Acetamidophenol', '103-90-2', 'Tylenol', 'N-(4-Hydroxyphenyl)acetamide', 'APAP', 'Panadol', 'N-Acetyl-p-aminophenol', \"4'-Hydroxyacetanilide\", 'Acetaminofen', 'Datril', 'p-Acetamidophenol', 'p-Hydroxyacetanilide', 'Algotropyl', 'Doliprane', 'Injectapap', 'Lonarid', 'Naprinol', 'Acenol', 'Biocetamol', 'Febridol', 'Servigesic', 'Vermidon', 'Acamol', 'Alpiny', 'Anelix', 'Multin', 'Neopap', 'Paracet', 'p-Acetaminophenol', 'Abensanil', 'Acetagesic', 'Acetalgin', 'Clixodyne', 'Gelocatil', 'Liquagesic', 'Pyrinazine', 'Acephen', 'Alvedon', 'Anaflon', 'Apamide', 'Dafalgan', 'Disprol', 'Dolprone', 'Dymadon', 'Febrilix', 'Febrolin', 'Finimal', 'Homoolan', 'Lestemp', 'Ortensan', 'Paldesic', 'Salzone', 'Tabalgin', 'Tralgon', 'Tussapap', 'Valadol', 'Valgesic', 'Amadil', 'Anhiba', 'Calpol', 'Captin', 'Dirox', 'Eneril', 'Fendon', 'Hedex', 'Lyteca', 'Pacemo', 'Panets', 'Parmol', 'Tapar', 'Tempra', 'Acetamide, N-(4-hydroxyphenyl)-', 'Paracetamolo', 'Paracetamolum', 'Dolgesic', 'Febrectal', 'Momentum', 'Abenol', 'Apacet', 'Banesin', 'Enelfa', 'Fensum', 'Minoset', 'Neodol', 'Pacemol', 'Panodil', 'Rounox', 'Suppap', 'Exdol', 'Pinex', 'p-Acetylaminophenol', '4-(Acetylamino)phenol', 'Febro-Gesic', 'NEBS', 'Acetamol', 'Acetofen', 'Aferadol', 'Algesidal', 'Apitrelal', 'Atralidon', 'Bacetamol', 'Calmanticold', 'Causalon', 'Codabrol', 'Codalgin', 'Codapane', 'Codoliprane', 'Cosutone', 'Custodial', 'Deminofen', 'Demogripal', 'Desfebre', 'Dolegrippin', 'Dolofugin', 'Doloreduct', 'Dolorfug', 'Dolorstop', 'Dorocoff', 'Dristancito', 'Duracetamol', 'Ecosetol', 'Elixodyne', 'Excipain', 'Fanalgic', 'Farmadol', 'Febranine', 'Febrectol', 'Febricet', 'Fluparmol', 'Geluprane', 'Grippostad', 'Gynospasmine', 'Infadrops', 'Kataprin', 'Magnidol', 'Malidens', 'Medocodene', 'Miralgin', 'Neodolito', 'Neuridon', 'Oxycocet', 'Paedialgon', 'Panacete', 'Panadeine', 'Panasorbe', 'Pantalgin', 'Paracemol', 'Paracenol', 'Paracetol', 'Paracodol', 'Paradrops', 'Parakapton', 'Paralief', 'Paralink', 'Paralyoc', 'Paramolan', 'Parasedol', 'Parcetol', 'Pediapirin', 'Pediatrix', 'Perfalgan', 'Phenaphen', 'Phenipirin', 'Phogoglandin', 'Pirinasol', 'Polmofen', 'Predimol', 'Predualito', 'Prontina', 'Pulmofen', 'Pyrigesic', 'Rubophen', 'Sanicopyrine', 'Scentalgyl', 'Schmerzex', 'Sedalito', 'Semolacin', 'Seskamol', 'Sinaspril', 'Sunetheton', 'Tachiprina', 'Tempanal', 'Termacet', 'Termalgin', 'Termalgine', 'Termofren', 'Titralgan', 'Treuphadol', 'Tricoton', 'Veralgina', 'Abrolet', 'Acertol', 'Afebrin', 'Afebryl', 'Algina', 'Algomol', 'Analter', 'Antidol', 'Apadon', 'Asetam', 'Asomal', 'Asplin', 'Babikan', 'Benmyo', 'Cadafen', 'Calapol', 'Cefalex', 'Cetadol', 'Codicet', 'Codisal', 'Cofamol', 'Cuponol', 'Curadon', 'Curpol', 'Darocet', 'Daygrip', 'Democyl', 'Dhamol', 'Dolcor', 'Dolefin', 'Dolotec', 'Dresan', 'Durapan', 'Febrex', 'Febrin', 'Finiweh', 'Ildamol', 'Inalgex', 'Janupap', 'Labamol', 'Lekadol', 'Lemgrip', 'Lemsip', 'Lupocet', 'Malgis', 'Maxadol', 'Mexalen', 'Minafen', 'Napafen', 'Nobedon', 'Nodolex', 'Ofirmev', 'Oralgan', 'Paceco', 'Pacimol', 'Paedol', 'Panamax', 'Paracin', 'Paracod', 'Parador', 'Parake', 'Paramol', 'Paranox', 'Parapan', 'Parasin', 'Parogal', 'Paroma', 'Pedric', 'Phendon', 'Plicet', 'Prodol', 'Puernol', 'Pyromed', 'Remedol', 'Rupemol', 'Sanicet', 'Scanol', 'Setakop', 'Setamol', 'Sifenol', 'Sinedol', 'Sinmol', 'Stopain', 'Supofen', 'Tazamol', 'Upsanol', 'Utragin', 'Verpol', 'Viruflu', 'Vivimed', 'Volpan', 'Zatinol', 'Zolben', 'Abrol', 'Andox', 'Dolko', 'Eu-Med', 'Korum', 'Oltyl', 'Pacet', 'Pamol', 'Reliv', 'Setol', 'Temlo', 'Tiffy', 'Tylex', 'Tylol', 'Tymol', 'NeoCitran', 'NilnOcen', 'Nina', 'RubieMol', 'Vips', 'Supadol mono', 'Treupel mon', 'Fortalidon P', 'Lonarid Mono', 'Panadeine Co', 'Gattaphen T', 'Gripin Bebe', 'Influbene N', 'N-Acetyl-4-aminophenol', 'Dymadon Co', 'Toximer P', 'Treupel N', 'Helon N', 'Malex N', 'Spalt N', 'Ben-u-ron', 'Dial-A-Gesic', 'Tylex CD', 'Anacin-3', 'Paracetanol', 'Alpinyl', 'Dimindol', 'Dularin', 'Febrinol', 'Fepanil', 'Nealgyl', 'Neotrend', 'Panadiene', 'Panaleve', 'Panofen', 'Paralen', 'Paraspen', 'Rivalgyl', 'Stanback', 'Anapap', 'Aspac', 'Atasol', 'Duaneo', 'Dypap', 'Painex', 'Panex', 'Freka-cetamol', 'A-Per', 'Junior Disprol', 'Kinder Finimal', 'Mono Praecimed', 'Bickie-mol', 'Codisal Forte', 'Croix Blanche', 'Dolorol Forte', 'Dymadon Forte', 'Kratofin simplex', 'Liquigesic Co', 'Percocet-Demi', 'Perdolan Mono', 'Rockamol Plus', 'Viclor Richet', 'Geralgine-P', 'Neo-Fepramol', 'Paracetamol AL', 'Paracetamol BC', 'Paracetamol PB', 'Pyregesic-C', 'Anti-Algos', 'Melabon Infantil', 'Migraleve Yellow', 'Para-Suppo', 'Paracetamol Saar', 'Supramol-M', 'Fever All', 'No-Febril', 'Panado-Co', 'Para-Tabs', 'Accu-Tap', 'Dol-Stop', 'Paracetamol Hexal', 'Paracetamol Raffo', 'Paracetamol Rosch', 'Paracetamol Stada', 'Percocet-5', '4-Acetaminophenol', 'Anadin dla dzieci', 'Cod-Acamol Forte', 'Contra-Schmerz P', 'Medinol Paediatric', 'Paracetamol Basics', 'p-Hydroxyphenolacetamide', 'Panado-Co Caplets', 'Paracetamol von ct', 'Paracetamol Fecofar', 'Paracetamol Harkley', 'Paracetamol Heumann', 'Paracetamol Nycomed', 'Pe-Tam', 'SK-Apap', 'Acetominophen', 'Codral Pain Relief', 'Paracetamole', 'Conacetol', 'Empracet', 'Panasorb', 'Paracetamol Hanseler', 'Paracetamol Winthrop', 'Resfenol', 'Apamid', 'Parelan', 'Prompt', 'Vicodin', 'Fevor', 'Spalt fur die nacht', 'A.F. Anacin', 'Paracetamol Genericon', 'Actifed Plus', 'Paracetamol Ratiopharm', \"Acetanilide, 4'-hydroxy-\", 'Claradol Codeine', 'Pasolind N', 'Paracetamol Italfarmaco', 'Hy-Phen', 'Paracetamol Antipanin P', 'New Cortal for Children', \"INFANTS' FEVERALL\", 'n-acetyl-4-hydroxyaniline', 'p-hydroxy-acetanilid', '4-Hydroxyacetanilide', 'acetaminophene', 'Phenaphen W/Codeine', 'Anexsia', 'Demilets', 'Efferalgan', 'Endecon', 'Flexsure', 'Intensin', 'Naldegesic', 'Paracetamol Dr. Schmidgall', 'Propacet', 'Theraflu', 'Wygesic', \"Children's Tylenol Chewable\", 'Coricidin Sinus', 'PCM Paracetamol Lichtenstein', 'Sudafed Sinus', 'Coricidin D', 'Paracetamol DC', 'Quiet World', 'St Joseph Aspirin-Free', 'Paracetamol SmithKline Beecham', 'Scherzatabletten Rezeptur 534', 'Tylenol (caplet)', 'Tylenol (geltab)', 'N-(4-Hydroxyphenyl)acetanilide', 'Tylenol 8-Hour', 'CCRIS 3', 'St. Joseph Fever Reducer', 'Midol Teen Formula', 'Acetamide, N-(p-hydroxyphenyl)-', 'Aspirin-Free Anacin', 'NCI-C55801', 'Tylenol Allergy Sinus', 'p-(Acetylamino)phenol', 'Rhinex D-Lay Tablets', 'MFCD00002328', 'Midol Regular Strength', \"Children's Acetaminophen Elixir Drops\", 'Percogesic with Codeine', '4-Hydroxyanilid kyseliny octove', 'Bayer Select Head Cold', 'DTXSID2020006', 'CHEBI:46195', 'HSDB 3001', 'N-acetyl-para-aminophenol', 'Bayer Select Allergy-Sinus', 'Bayer Select Headache Pain', 'Dristan Cold No Drowsiness', 'NSC-3991', 'Paracetamolum [INN-Latin]', 'EINECS 203-157-5', 'Prestwick_13', 'St Joseph Aspirin-Free for Children', 'UNII-362O9ITL9D', '222 AF', 'Midol PM Night Time Formula', 'Triaminic Sore Throat Formula', 'N-(4-hydroxyphenyl)ethanamide', 'NSC 109028', 'NSC-109028', 'N-(4-hydroxyphenyl)-acetamide', '362O9ITL9D', 'Bayer Select Sinus Pain Relief', 'Phenol, p-acetamido-', 'Sine-Off Sinus Medicine Caplets', 'Roxicet 5/500', 'Tocris-1706', 'Acetaminophen (Standard)', '4-(N-Acetylamino)phenol', 'Acetaminophen (4-hydroxyacetanilide)', 'Bayer Select Menstrual Multi-Symptom', 'Acetaco', 'Acetaminophen [USP:JAN]', 'St. Joseph Cold Tablets for Children', 'CHEMBL112', 'DTXCID606', 'N-(4-Hydroxyphenyl)acetamide (Tylenol)', 'Aminofen', 'Duorol', 'NSC3991', 'EC 203-157-5', '4-13-00-01091 (Beilstein Handbook Reference)', 'ALLAY COMPONENT ACETAMINOPHEN', 'BUCET COMPONENT ACETAMINOPHEN', 'component of Dialog', 'component of Dilone', 'ESGIC COMPONENT ACETAMINOPHEN', 'NORCO COMPONENT ACETAMINOPHEN', 'TRIAD COMPONENT ACETAMINOPHEN', 'TYLOX COMPONENT ACETAMINOPHEN', 'Paracetamol (INN)', 'BANCAP COMPONENT ACETAMINOPHEN', 'CODRIX COMPONENT ACETAMINOPHEN', 'component of Endecon', 'FEMCET COMPONENT ACETAMINOPHEN', 'LORTAB COMPONENT ACETAMINOPHEN', 'NORCET COMPONENT ACETAMINOPHEN', 'OXYCET COMPONENT ACETAMINOPHEN', 'TENCON COMPONENT ACETAMINOPHEN', 'TREZIX COMPONENT ACETAMINOPHEN', 'ZYDONE COMPONENT ACETAMINOPHEN', 'NSC109028', 'ANEXSIA COMPONENT ACETAMINOPHEN', 'ANOQUAN COMPONENT ACETAMINOPHEN', 'BUTAPAP COMPONENT ACETAMINOPHEN', 'component of Percocet', 'HY-PHEN COMPONENT ACETAMINOPHEN', 'ROXICET COMPONENT ACETAMINOPHEN', 'ROXILOX COMPONENT ACETAMINOPHEN', 'SEDAPAP COMPONENT ACETAMINOPHEN', 'TALACEN COMPONENT ACETAMINOPHEN', 'TYCOLET COMPONENT ACETAMINOPHEN', 'VICODIN COMPONENT ACETAMINOPHEN', 'WYGESIC COMPONENT ACETAMINOPHEN', 'DARVOCET COMPONENT ACETAMINOPHEN', 'EXCEDRIN COMPONENT ACETAMINOPHEN', 'FIORICET COMPONENT ACETAMINOPHEN', 'PERCOCET COMPONENT ACETAMINOPHEN', 'TRIAPRIN COMPONENT ACETAMINOPHEN', 'ULTRACET COMPONENT ACETAMINOPHEN', 'XARTEMIS COMPONENT ACETAMINOPHEN', 'CO-GESIC COMPONENT ACETAMINOPHEN', 'component of Phenaphen', 'DHC PLUS COMPONENT ACETAMINOPHEN', 'TYL', 'BANCAP HC COMPONENT ACETAMINOPHEN', 'LORCET-HD COMPONENT ACETAMINOPHEN', 'PHRENILIN COMPONENT ACETAMINOPHEN', 'component of Percogesic', 'NCGC00016361-07', 'Actamin', 'CAS-103-90-2', 'Pasolind', 'Redutemp', 'Robigesic', 'Valorin', 'DURADYNE DHC COMPONENT ACETAMINOPHEN', 'DOLENE AP-65 COMPONENT ACETAMINOPHEN', 'DRIXORAL PLUS COMPONENT ACETAMINOPHEN', 'SYNALGOS-DC-A COMPONENT ACETAMINOPHEN', 'Aceta Elixir', 'PARACETAMOL [INN]', 'Dafalgan Codeine', 'MEDIGESIC PLUS COMPONENT ACETAMINOPHEN', 'Acetaminophen (USP:JAN)', 'PARACETAMOL (IARC)', 'PARACETAMOL [IARC]', 'Jin Gang', 'WLN: QR DMV1', 'Paracetamolum (INN-Latin)', 'PARACETAMOL (MART.)', 'PARACETAMOL [MART.]', 'component of Hycomine Compound', 'ACETAMINOPHEN (USP-RS)', 'ACETAMINOPHEN [USP-RS]', 'Acetavance', 'Paracetamolo [Italian]', 'Calonal', 'PARACETAMOL (EP MONOGRAPH)', 'PARACETAMOL [EP MONOGRAPH]', 'Acenol (pharmaceutical)', 'Drixoral Sinus', 'Aceta Tablets', 'ACETAMINOPHEN (USP IMPURITY)', 'ACETAMINOPHEN [USP IMPURITY]', 'Paracetamol [INN:BAN]', 'Valorin Extra', 'ACETAMINOPHEN (USP MONOGRAPH)', 'ACETAMINOPHEN [USP MONOGRAPH]', 'Snaplets-FR', 'Oraphen-PD', 'Phenaphen Caplets', 'Acetaminophen (1.0mg/mL in Methanol)', '4-acetylaminophenol', 'SMR000112065', 'Tavist Allergy/Sinus/Headache', 'Dapa X-S', 'Drixoral Cold & Flu', 'SR-01000597517', 'acetominophene', '4-Hydroxyanilid kyseliny octove [Czech]', 'Acetamiophen', 'Acteaminophen', 'Mejoralito', 'Claratal', 'Daphalgan', 'Duralgina', 'Easyfast', 'FeverallAdults', 'FeverallInfants', 'Fortolin', 'Gesteira', 'Nortemp', 'Pharbetol', 'Resprin', 'Averex', 'fever reducing', 'SafeTynadol', 'Aphen', 'CounterActPain', 'Dolex', 'Mapap', 'Ringl', 'AcetaMax', 'Acetaminophen?', 'Daga', 'Apacet Capsules', 'Atasol Caplets', 'Atasol Tablets', 'Childrens Mapap', 'Dover Aminophen', 'Infants Silapap', 'Infants Tylenol', 'Temperal-ito', 'Tempra Caplets', 'Tylenol Caplets', 'Tylenol Elixir', 'Tylenol Gelcaps', 'Tylenol Tablets', 'Actamin Extra', 'Actamin Super', 'Aminofen Max', 'ANEXSIA 10/660', 'Apacet Elixir', 'Atamel Forte', 'Atasol Drops', 'Cetafen Extra', 'Excinol Extra', 'Exdol Strong', 'Headache Man', 'Medique Apap', 'p-Acetoaminophen', 'Pain Reliever', 'Tempra Drops', 'Tylenol Drops', 'alpha-Per', 'Adwe Feverx', 'Citramon P', 'Dolofin Infantil', 'Excedrin Caplets', 'Fast Acting', 'FeverallChildrens', 'Meijer Childrens', 'Neo-Lubrina', 'Plus Pharma', 'Tylo Extra', 'Zee UnaspirinES', 'Acetaminophen ES', 'Dial-alpha-gesic', 'Fever and Pain', 'Pain and Fever', 'Pain ReliefES', 'Wal-Nadol', 'Apo-Acetaminophen', 'Childrens Nortemp', 'Childrens Silapap', 'Childrens Tylenol', 'Tylenol 8hr', '4-acetominophenol', 'SP Pharma', 'AcetaminophenCaplet', 'Childrens Chewable', 'Ed Apap', 'Genebs X-Tra', 'major acetaminophen', 'Pain ReliefInfants', 'Acetaminopheninfants', 'Arthritis 8 Hour', 'MAX relief junior', 'Only ForFEVER', 'Temp X', 'XL-dol', '8HR Pain Relief', 'Childrens Chewables', 'Paracetamol;Tylenol', 'Rugby Acetaminophen', 'Xpect Acetaminophen', '4-acetamido phenol', '4-acetamido-phenol', 'Curist Pain Relief', 'Muscle Pain Relief', 'Rexall Pain Relief', 'Tempra D.S', 'Acetaminophen tablet', 'leader Acetaminophen', 'TYLOExtra Strength', '8 hr Pain Relief', 'Only For FEVER', 'ArthritisPain Relief', 'Equate Acetaminophen', 'Genexa Acetaminophen', 'Infants Pain Relief', 'Junior Acetaminophen', 'Liquid Acetaminophen', 'Non-Aspirinchildrens', 'p-hydroxyacetoanilide', 'Pain Reliefchildrens', 'Topcare Pain Relief', 'Tylenol (TN)', 'Acetaminophen (red)', 'Pain Relief 8 Hr', 'Supac (Salt/Mix)', 'Tylox (Salt/Mix)', '8HR Arthritis Pain', 'Acetaminophen Caplets', 'Acetaminophen Gelcaps', 'MAPAPExtra Strength', 'Medline Acetaminophen', 'Zydone (Salt/Mix)', 'ACETAMINOPHENER', 'Atasol Forte Caplets', 'Atasol Forte Tablets', 'CareOne Acetaminophen', 'Children Pain Relief', 'Conrx Extra Strength', 'equaline acetaminophen', 'Extra Strength Mapap', 'FeverallJr. Strength', 'Mapap Arthritis Pain', 'para-acetylaminophenol', 'RELORN', 'Acetaminophen 160mg', 'Acetaminophen 325mg', 'Acetaminophen 500mg', 'Acetaminophen 80 mg', 'Kids Pain and Fever', '8 Hour Pain Relief', 'Acetaminophen 8 Hour', 'Anexsia (Salt/Mix)', 'Endecon (Salt/Mix)', 'Sinubid (Salt/Mix)', 'Talacen (Salt/Mix)', 'Vicodin (Salt/Mix)', 'Wygesic (Salt/Mix)', 'Acetaminophen Uniserts', 'CareALL Acetaminophen', 'Chewable Acetaminophen', 'Childrens Pain Relief', 'Datril Extra-Strength', 'fever reducingchildrens', 'Infants Pain Reliever', 'Pain and FeverInfants', 'Pain RelieverChildrens', 'Sohmed Extra Strength', 'Sunmark Pain Reliever', 'Tylenol Infants Drops', 'Care One Pain Relief', 'Demilets (Salt/Mix)', 'Empracet (Salt/Mix)', 'Fast ActingPedia Crae', 'GOODYSBack and Body', 'Intensin (Salt/Mix)', 'Propacet (Salt/Mix)', 'Suppap-120', 'Suppap-325', 'Suppap-650', 'Childrens Acetaminophen', 'eight hour pain relief', 'Equate Pain and Fever', 'Panadol Extra Strength', 'Powerful Pain Medicine', 'sound body pain relief', 'TheraFlu (Salt/Mix)', 'Tylenol Extra Strength', 'Coricidin (Salt/Mix)', 'Dg Health Pain Relief', 'Liquiprin (Salt/Mix)', 'PANADOLExtra Strength', 'Sunmark pain and fever', 'TYLENOLExtra Strength', 'AC FAST', 'Acetaminophen 325 mg', 'Acetaminophen 500 mg', 'Acetaminophen Easy Tabs', 'Childrens Pain Reliever', 'Hy-Phen (Salt/Mix)', 'Infants Pain and Fever', 'IV-APAP', 'Medique at Home APAP', 'Pain and FeverChildrens', 'phenol derivative, 11', 'Spectrum_000016', 'Tempra Chewable Tablets', 'Topcare Pain and Fever', '8 Hour Arthritis Pain', 'Acetaminophen 325mgRS', 'Acetaminophen 500mgES', 'Circle K Pain Reliever', 'Compresso PAP 90 F', 'Dye Free Pain Reliever', 'Extra Strength No-Pain', 'Good Sense Pain Relief', 'Naldegesic (Salt/Mix)', 'Compresso PAP 90CPF', 'mapapinfants concentrated', 'Wal-NadolExtra Strength', 'Basic Care acetaminophen', 'M-PAP', 'Topco Arthritis 8 Hour', 'Up and Up Acetaminophen', 'Actimol Chewable Tablets', 'caring mill acetaminophen', 'Childrens Chewable Mapap', 'Dg Health Pain Reliever', 'Feverall Junior Strength', 'Health Mart Pain Relief', 'pain relief acetaminophen', 'PharbetolRegular strength', 'TYLENOLRegular Strength', 'Darvocet-N (Salt/Mix)', 'Anacin-3 Extra Strength', 'Childrens Pain and Fever', 'core values pain reliever', 'Help I Have A Headache', 'Liquiprin Infants\" Drops', 'rapid release pain relief', 'Acetaminophen 80mg/piece', 'Aurophen Regular Strength', 'Dye Free Pain and Fever', 'N-acetyl para aminophenol', 'Pediacare Childrens Grape', 'Prestwick0_000868', 'Prestwick1_000868', 'Prestwick2_000868', 'Prestwick3_000868', 'Sound Body Pain Reliever', 'Spectrum2_000085', 'Spectrum3_000283', 'Spectrum4_000140', 'Spectrum5_000736', 'AcetaminophenRapid Release', 'Compresso PAP 90 CPC', 'Compresso PAP 90 CPF', 'Coricidin D (Salt/Mix)', 'PlusPharma Extra Strength', 'Quiet World (Salt/Mix)', \"Genapap Children's Elixir\", 'Sunmark Arthritis 8 Hour', \"Tylenol Children's Elixir\", '4-Acetamidophenol, 98%', 'Acetaminophen 160mg/5mL', 'Acetaminophen-apap 8 Hour', 'acetaminophenExtra Strength', 'Actifed Plus (Salt/Mix)', 'Henry Schein Acetaminophen', 'Members Mark Acetaminophen', 'Midol Long Lasting Relief', 'Pain Relief Fever Reducer', 'ACETAMINOPHEN [MI]', 'ACETAMINOPHENFor Adults', 'core values pain and fever', '8HR muscle aches and pain', 'Acetaminophen 325 mgRound', 'Acetaminophen 500 mgRound', 'Acetaminophen Rapid Release', 'ADWE Childrens Pain Fever', 'Dolex Acetaminophen 500mg', 'Epitope ID:117710', 'family wellness pain relief', \"Genapap Children's Tablets\", 'Good Sense Pain and Fever', 'Pain Relief Extra Strength', 'Signature Care Pain Relief', 'Sudafed Sinus (Salt/Mix)', 'Sunmark Junior Rapid Melts', '8HR Arthritis Pain Relief', 'ACETAMINOPHEN [JAN]', 'care one pain relief8 hour', 'Leader 8HR Arthritis Pain', \"Actimol Infants' Suspension\", 'Drixoral Sinus (Salt/Mix)', 'equaline acetaminopheninfants', 'equate pain and feverinfants', 'Health Mart Pain and Fever', \"Liquiprin Children's Elixir\", 'SCHEMBL3480', 'Tylo Extra (Acetaminophen)', '8 hr Arthritis Pain Relief', 'Acetaminophen Extra Strength', 'ACETAMINOPHENFor Children', 'AcetaminophenRegular strength', 'Arthritis Pain Acetaminophen', 'Extra Strength Acetaminohpen', 'Extra Strength Acetaminophen', 'GeriCare Liquid Pain Relief', 'Infants Pain ReliefDye Free', 'Junior Strength Pain Relief', 'McKesson Acetaminophen 325', 'Medique Apap Extra Strength', 'Members Mark Arthritis Pain', 'Pain Reliever Rapid Release', 'Tylenol Extra StrengthCaplet', 'WalgreenChildrens Pain Fever', 'Acetaminophen (JP17/USP)', 'ACETAMINOPHEN [HSDB]', 'AcetaminophenExtended Release', 'Coricidin Sinus (Salt/Mix)', 'N-(4-hydroxyfenyl)ethanamid', 'pain reliefEXTRA STRENGTH', 'Topcare 8 Hour Pain Relief', 'Acetaminophen-APAP Arthritis', 'CareOne 8 Hour Pain Relief', 'Childrens Mapap Acetaminophen', 'DolexChildren Pain and Fever', 'Extra Strenghth Acetaminophen', 'Family Wellness Acetaminophen', 'Handy Solutions Acetaminophen', 'Harris Teeter Arthritis Pain', 'Medique Extra Strength APAP', 'Pain and Fever ReliefInfants', 'Pain Relief Regular Strength', 'Regular Strength Pain Relief', 'Rugby Childrens Acetaminophen', 'ACETAMINOPHEN [VANDF]', 'BSPBio_000915', 'BSPBio_001786', 'CareOne Infants Acetaminophen', 'DDS-06A', 'KBioGR_000560', 'KBioSS_000356', 'Leader 8 Hour Pain Reliever', 'Pain Reliever, Caseys 4good', 'Pain RelieverRegular Strength', 'PARACETAMOL [WHO-DD]', 'PARACETAMOL [WHO-IP]', 'Tylenol 8 Hr Arthritis Pain', \"Actimol Children's Suspension\", 'Apacet Extra Strength Caplets', 'Apacet Extra Strength Tablets', 'APINOPHENEXTRA STRENGTH', 'Aspirin-Free Excedrin Caplets', 'equate pain and feverchildrens', 'Genebs Extra Strength Caplets', 'Harris Teeter Pain and Fever', 'Infants Pain Relief Dye-free', 'Lil Drug Store Pain Reliever', 'MLS001146925', 'MLS001331684', 'MLS002154041', 'NOTTS-Muscle Aches and Pain', 'Pain and Fever ReliefChildren', 'PAIN RELIEFRegular Strength', 'up and up acetaminopheninfants', 'Acetaminophen 160mg per 5mL', 'Acetaminophen Extended Release', 'Acetaminophen Extended-Release', 'Acetaminophen Regular Strength', 'Acetaminophen tablets 500 mg', 'BIDD:GT0005', 'Chewable AcetaminophenChildrens', 'Childrens Acetaminophen Liquid', 'COMPRESSO PAP 90 CPL', 'COMPRESSO PAP 90 CPP', 'COMPRESSO PAP 90 CPU', 'DivK1c_000660', 'Excinol Extra (Acetaminophen)', 'Genexa Childrens Acetaminophen', 'Pain ReliefChildrens Dye Free', 'Regular Strength Acetaminophen', 'SPECTRUM1500101', 'acetaminophen 500 mg, tablet', 'Berley and Jensen Pain Relief', 'Genapap Extra Strength Caplets', 'Genapap Extra Strength Tablets', 'Genexa Infants Pain and Fever', 'healthy mamaSHAKE THAT ACHE', 'Leader Arthritis Pain Reliever', 'Leader Infants Pain and Fever', 'n-(4-hydroxyphenyl) acetamide', 'Pain and Fever ReliefChildrens', 'Regular Strength Pain Reliever', 'SPBio_000010', 'SPBio_002836', 'Tapanol Extra Strength Caplets', 'Tapanol Extra Strength Tablets', 'Tylenol Extra Strength Caplets', 'Tylenol Extra Strength Gelcaps', 'Tylenol Extra Strength Tablets', 'Acetaminophen Caplet, 500 mg', 'CareOne Childrens Acetaminophen', 'kirkland signature acetaminophen', 'OFIRMEV (ACETAMINOPHEN)', 'Sunmark pain and feverchildrens', 'Topcare pain and feverchildrens', 'Tylo Arthritis (Acetaminophen)', 'Actimol Junior Strength Caplets', 'Apacet Regular Strength Tablets', 'Berkley and Jensen Pain Relief', 'BPBio1_001007', 'Care One Arthritis Pain Relief', 'Childrens Pain Relief Dye-free', 'DG Health 8 Hour Pain Relief', 'Dye FreeInfants Pain and Fever', 'Excedrin Extra Strength Caplets', 'Genebs Regular Strength Tablets', 'GTPL5239', 'Junior AcetaminophenAges 6-11', 'Pain RelieverChildrens dye free', 'Panadol Junior Strength Caplets', 'SGCUT00014', 'Sunmark Arthritis Pain Reliever', 'Sunmark Infants Pain and Fever', 'Topcare Infants Pain and Fever', 'Tylenol Junior Strength Caplets', 'up and up juniors acetaminophen', 'Welly Childrens Travel Medicine', 'ACETAMINOPHEN 500MG ES', 'Acetaminophen Caplets, 500 mg', 'CERTI-CET PLUSExtra Strength', 'Childrens Chewable Acetaminophen', 'Dye Free Pain RelieverChildrens', 'Equaline Childrens Acetaminophen', 'Midol Teen Formula (Salt/Mix)', 'NOTTS-Extra Strength 500 mg', 'Pain ReliefAdult Extra Strength', 'Premier Value Arthritis 8 Hour', 'Berkley and Jensen Acetaminophen', 'Children Pain and Fever Reliver', 'Childrens Pain ReliefReadyInCase', 'Dg Health Arthritis Pain Relief', 'Dg Health Childrens Pain Relief', 'DrKids Childrens Pain and Fever', 'Dye Free Childrens Acetaminophen', 'Equate Childrens Pain and Fever', 'Genapap Regular Strength Tablets', 'good sense pain and feverinfants', 'Infants Nanomol Dye-Free Cherry', 'Leader Childrens Pain and Fever', 'Model AA-1218CE REV 1', 'Pain Reliever and Fever Reducer', 'Panadol Maximum Strength Caplets', 'Panadol Maximum Strength Tablets', 'SCHEMBL19474893', 'Tylenol Regular Strength Caplets', 'Tylenol Regular Strength Tablets', 'Up and Up Infants Acetaminophen', 'Aspirin-Free Anacin (Salt/Mix)', 'BDBM26197', 'Children Pain and Fever Reliever', 'CounterActChildrens Pain Reliever', 'Dye Free Infants Pain and Fever', 'HMS502A22', 'Infants Dye Free Pain and Fever', 'KBio1_000660', 'KBio2_000356', 'KBio2_002924', 'KBio2_005492', 'KBio3_001286', 'Paracetamol, 1mg/ml in Methanol', 'Sunmark Childrens Pain and Fever', 'Topcare Childrens Pain and Fever', '365 everyday value acetaminophen', 'basic care infants pain and fever', 'childrens dye free pain and fever', 'DOLO-NeuroBion Acetaminophen Max', 'Dye Free Pain and FeverChildrens', 'EXTRA STRENGTH PAIN RELEIF', 'Health Mart arthritis pain relief', 'Little Fevers By Little Remedies', 'N02BE01', 'Only For FIRST AID MEDICINE', 'Pain Relief Fever Reducerchildren', 'Tylenol Arthritis Extended Relief', 'Acetaminophen, analytical standard', 'Childrens Nanomol Dye-free Cherry', 'Dg Health Infants Pain and Fever', 'Easy Care First Aid Acetaminophen', 'Equate 8HR Arthritis Pain Relief', 'Excinol Arthritis (Acetaminophen)', 'Genexa AcetaminophenExtra Strength', 'NINDS_000660', 'Pain Relief Rapid Release Gelcaps', 'RAPID RELEASE ACETAMINOPHEN', 'signature care infants pain relief', 'Tylenol Infants\" Suspension Drops', 'Up and Up Childrens Acetaminophen', 'Acetaminophen GelcapsExtra Strength', 'BCPP000441', 'CareALL Non AspirinExtra Strength', 'caring mill childrens acetaminophen', 'Drixoral Cold & Flu (Salt/Mix)', 'GLXC-10782', 'HMS1570N17', 'HMS1920A03', 'HMS2091G03', 'HMS2097N17', 'HMS2269G20', 'HMS3268A10', 'HMS3412D16', 'HMS3676D16', 'HMS3714N17', 'Pharmakon1600-01500101', 'Sunmark pain relieverextra strength', 'Tylenol Allergy Sinus (Salt/Mix)', 'TYLENOL For Children Plus Adults', 'Uline Acetaminophen Extra Strength', 'ACETAMINOPHEN [ORANGE BOOK]', 'APAP ELIXER (ACETAMINOPHEN)', 'Aurophen Extra Strength for Adults', 'CareALL AcetaminophenExtra Strength', 'Good Neighbor Pharmacy Pain Relief', 'health mart pain and feverchildrens', 'Leader Extra Strength Acetaminophen', 'Midol Regular Strength (Salt/Mix)', 'Model 6240-35-001CS', 'Robitussin Direct Sore Throat Pain', 'topcare 8 hr arthritis pain relief', 'Walgreen Childrens Pain plus Fever', 'acetaminophen tablet, extra strength', 'BCP23431', 'Dg Health Childrens Pain and Fever', 'good sense pain reliefarthritis pain', 'Harris Teeter Pain and FeverInfants', 'Health Mart Infants Pain and Fever', 'NSC 3991', 'pain reliever fever reducerchildrens', 'Paracetamol 1.0 mg/ml in Methanol', 'Pediacare Single Dose Fever Reducer', 'STR00901', 'to_000023', \"Tylenol Children's Chewable Tablets\", 'Acetaminophen tablet extended release', 'Acetaminophen, BioXtra, >=99.0%', 'Aramark Extra Strength Acetaminophen', 'Basic Care Childrens Pain and Fever', 'Bayer Select Head Cold (Salt/Mix)', 'Children Acetaminophen Oral Solution', 'Good Sense Childrens Pain and Fever', 'Leader 8 HR Muscle Aches and Pain', 'Robitussin Night Relief (Salt/Mix)', 'Rugby Regular Strength Acetaminophen', 'Sound Body Childrens Pain and Fever', 'Tox21_110397', 'Tox21_201930', 'Tox21_300100', 'Tylenol Acetaminophen Extra Strength', 'AC8790', 'Acetaminophen Easy TabsExtra Strength', 'Bactimicina Childrens Pain and Fever', 'BBL005229', 'CCG-38901', 'Childrens AcetaminophenDye Free Grape', 'Circle K Pain RelieverExtra Strength', 'dg health pain relieverextra strength', 'Good Sense Pain ReliefExtra Strength', 'HY-66005R', 'Medique at Home APAP Extra Strength', 'NSC755853', 'PARACETAMOLUM [WHO-IP LATIN]', 'RIGHT REMEDIES Pain Relief Caplet', 'Signature Care Childrens Pain Relief', 'STL140694', \"Tylenol Children's Suspension Liquid\", 'up and up acetaminophenextra strength', 'Childrens Pain Relief Oral Suspension', 'CVS Childrens Pain plus Fever Relief', 'dg health 8 hr arthritis pain relief', 'Harris Teeter Infants Pain and Fever', 'Harris Teeter Pain and FeverChildrens', 'Health Mart Childrens Pain and Fever', 'Pediacare Infants Fever Reducer Grape', 'Premier Value Arthritis Pain Reliever', 'AKOS000121004', 'Childrens Pain and FeverDissolve Packs', 'Easy Care First Aid Kit-Comprehensive', 'Feverall Sprinkle Caps Junior Strength', 'Flaxendol Extra Strength Acetaminophen', 'Good Neighbor Pharmacy Pain and Fever', 'Health Sense Tactinal Regular Strength', 'Meijer ChildrensPain and Fever Reducer', 'Ornex Severe Cold Formula (Salt/Mix)', 'pain relief acetaminophenExtra Strength', 'Parents Choice Infants Pain and Fever', 'Pediacare Infants Fever Reducer Cherry', 'Tox21_110397_1', 'ACETAMINOPHEN COMPONENT OF ALLAY', 'ACETAMINOPHEN COMPONENT OF BUCET', 'ACETAMINOPHEN COMPONENT OF ESGIC', 'ACETAMINOPHEN COMPONENT OF NORCO', 'ACETAMINOPHEN COMPONENT OF TRIAD', 'ACETAMINOPHEN COMPONENT OF TYLOX', 'acetaminophenpain reliever fever reducer', 'Arthritis Pain RelieverExtended Release', 'Bayer Select Allergy-Sinus (Salt/Mix)', 'BCP9000225', 'Childrens Acetaminophen Oral Suspension', 'Childrens Pain and Fever Cherry flavor', 'Childrens Pain and Fever, Grape flavor', 'DB00316', 'good sense pain reliefchildrenschildrens', 'Harris Teeter Childrens Pain and Fever', 'KOSHER MEDS Childrens Pain and Fever', 'NSC-755853', 'Pain ReliefExtra StrengthExtra Strength', 'Pediacare Childrens Acetaminophen Grape', 'Plus PharmaPain Reliever,Fever Reducer', 'ACETAMINOPHEN COMPONENT OF BANCAP', 'ACETAMINOPHEN COMPONENT OF CODRIX', 'ACETAMINOPHEN COMPONENT OF FEMCET', 'ACETAMINOPHEN COMPONENT OF LORTAB', 'ACETAMINOPHEN COMPONENT OF NORCET', 'ACETAMINOPHEN COMPONENT OF OXYCET', 'ACETAMINOPHEN COMPONENT OF TENCON', 'ACETAMINOPHEN COMPONENT OF ZYDONE', 'Dolex Acetaminophen 500mgExtra Strength', 'IDI1_000660', 'Infants Fever Reducer and Pain Reliever', 'Medicine Shoppe Arthritis Pain Reliever', 'PhysiciansCare Non AspirinExtra Strength', 'Sine-Aid, Maximum Strength (Salt/Mix)', 'Sudafed Severe Cold Formula (Salt/Mix)', 'Acetaminophen 500mg, film-coated caplet', 'ACETAMINOPHEN COMPONENT OF ANEXSIA', 'ACETAMINOPHEN COMPONENT OF ANOQUAN', 'ACETAMINOPHEN COMPONENT OF BUTAPAP', 'ACETAMINOPHEN COMPONENT OF ROXICET', 'ACETAMINOPHEN COMPONENT OF ROXILOX', 'ACETAMINOPHEN COMPONENT OF SEDAPAP', 'ACETAMINOPHEN COMPONENT OF TALACEN', 'ACETAMINOPHEN COMPONENT OF TYCOLET', 'ACETAMINOPHEN COMPONENT OF VICODIN', 'ACETAMINOPHEN COMPONENT OF WYGESIC', 'Acetaminophen Rapid ReleaseExtra Strength', 'Berkley and Jensen Arthritis Pain Relief', 'COMBOGESIC COMPONENT ACETAMINOPHEN', 'Lil Drug Store Childrens Pain and Fever', 'NCGC00016361-01', 'NCGC00016361-02', 'NCGC00016361-03', 'NCGC00016361-04', 'NCGC00016361-05', 'NCGC00016361-06', 'NCGC00016361-08', 'NCGC00016361-09', 'NCGC00016361-10', 'NCGC00016361-12', 'NCGC00016361-13', 'NCGC00016361-20', 'NCGC00025267-01', 'NCGC00025267-02', 'NCGC00025267-03', 'NCGC00025267-04', 'NCGC00025267-05', 'NCGC00253912-01', 'NCGC00259479-01', 'Pediacare Infants Fever Reducer Dye Free', 'Tylenol Junior Strength Chewable Tablets', 'AC-23969', 'Acetaminophen 500 mg, film-coated caplet', 'Acetaminophen 500 mg, film-coated tablet', 'ACETAMINOPHEN COMPONENT OF DARVOCET', 'ACETAMINOPHEN COMPONENT OF EXCEDRIN', 'ACETAMINOPHEN COMPONENT OF FIORICET', 'ACETAMINOPHEN COMPONENT OF HY-PHEN', 'ACETAMINOPHEN COMPONENT OF PERCOCET', 'ACETAMINOPHEN COMPONENT OF TRIAPRIN', 'ACETAMINOPHEN COMPONENT OF ULTRACET', 'ACETAMINOPHEN COMPONENT OF XARTEMIS', 'ACETAMINOPHENpain reliever/fever reducer', 'Childrens Fever Reducer and Pain Reliever', 'Clear Choice Extra Strength Pain Reliever', 'DA-70062', 'HY-66005', 'Midol PM Night Time Formula (Salt/Mix)', 'Pain ReliefExtra Strength Easy to Swallow', 'Pain Reliever fever ReducerExtra Strength', 'Qaulity Choice Pain Relief Extra Strength', 'Quality Choice Extra Strength Pain Relief', 'SY001162', 'Triaminic Sore Throat Formula (Salt/Mix)', '1ST7116-1000M', 'ACETAMINOPHEN COMPONENT OF CO-GESIC', 'ACETAMINOPHEN COMPONENT OF DHC PLUS', 'ACETAMINOPHEN COMPONENT OF PHRENILIN', 'ACETAMINOPHENPain Reliever,Fever Reducer', 'ASSURED EXTRA STRENGTH ACETAMINOPHEN', 'BCP0726000305', 'Harmon Core Values Infants Pain and Fever', 'Lil Drug Store Pain RelieverExtra Strength', 'Little Remedies Infant Fever/Pain Reliever', 'SBI-0051269.P003', 'VALUMEDS EXTRA STRENGTH PAIN RELIEF', '24 / 7 Life Extra Strength Pain Reliever', 'ACETAMINOPHEN COMPONENT OF BANCAP HC', 'ACETAMINOPHEN COMPONENT OF LORCET-HD', 'Bayer Select Sinus Pain Relief (Salt/Mix)', 'berkley and jensen pain reliefextra strength', 'Clear Choice Regular Strength Pain Reliever', 'COMBOGESIC IV COMPONENT ACETAMINOPHEN', 'Extra Strength Pain Reliever, Caseys 4good', 'Premier Value Childrens Acetaminophen Melts', 'Qaulity Choice Pain Relief Regular Strength', 'AB00051905', 'Acetaminophen Caplet, 500 mg Extra Strength', 'Aspirin Free Anacin Maximum Strength Caplets', 'Aspirin Free Anacin Maximum Strength Tablets', 'ASSURED REGULAR STRENGTH ACETAMINOPHEN', 'Care One arthritis pain relieftemporary minor', 'CS-0694811', 'good neighbor pharmacy infants pain and fever', 'H0190', 'NS00000231', 'RAPID RELEASE ACETAMINOPHENExtra Strength', 'Sine-Off Sinus Medicine Caplets (Salt/Mix)', 'ACETAMINOPHEN COMPONENT OF DURADYNE DHC', 'Acetaminophen Tablets, 500 mg Extra Strength', 'EN300-17510', 'good neighbor pharmacy pain and feverchildrens', 'Little Remedies Childrens Fever Pain Reliever', 'ACETAMINOPHEN COMPONENT OF DOLENE AP-65', 'ACETAMINOPHEN COMPONENT OF DRIXORAL PLUS', 'ACETAMINOPHEN COMPONENT OF SYNALGOS-DC-A', 'Acetaminophen Extended-Release Tablets, 650 mg', 'C06804', 'Childrens ACCUDIALPain reliever/ Fever reducer', 'D00217', 'Good Neighbor Pharmacy Childrens Pain and Fever', 'good neighbor pharmacy pain reliefextra strength', 'Little Fevers Infant Berry Fever/pain Reliever', 'Pain Relief Rapid Release GelcapsExtra Strength', 'Q57055', 'AB00051905-09', 'AB00051905_10', 'ACETAMINOPHEN COMPONENT OF MEDIGESIC PLUS', 'Acetaminophen Directly compressible granules 90%', 'Aspirin Free Anacin Maximum Strength Gel Caplets', 'Bayer Select Menstrual Multi-Symptom (Salt/Mix)', 'Contac Cough & Sore Throat Formula (Salt/Mix)', 'CVS Health Extra Strength Acetaminophen Softgels', 'Infants Pain Relief Oral Suspension Grape Flavor', 'kidgets infants pain reliever plus fever reducer', 'Childrens Acetaminophen Oral SuspensionGrape Flavor', 'Infants Pain Relief Oral Suspension Cherry Flavor', 'L024125', 'RIGHT REMEDIES Pain Relief Extra Strength Caplet', 'St. Joseph Cold Tablets for Children (Salt/Mix)', 'Tylenol Extra Strength Adult Liquid Pain Reliever', '4-Acetamidophenol Solution in Methanol, 1000?g/mL', 'ACETAMINOPHEN CAPLETS, 500 MGEXTRA STRENGTH', 'AcetaminophenPAIN RELIEVER,FEVER REDUCER 500 mg', 'Extra Strength AcetaminohpenAdult Rapid Burst Cherry', 'kirkland signature acetaminophenadult extra strength', 'Novalgina Acetaminophen Pain and Fever for Childrens', 'Paracetamol (Acetaminophen) 1.0 mg/ml in Methanol', 'SR-01000597517-1', 'SR-01000597517-2', 'SR-01000597517-4', 'Acetaminophenol 4-Acetamino phenol Paracetamol Somedon', 'better living brands childrens fever and pain reliver', 'BRD-K41524689-001-08-6', 'BRD-K41524689-001-22-7', 'BRD-K41524689-001-23-5', 'Muscle Aches and Pains Acetaminophen extended release', 'Pediacare Childrens Fever Reducer Pain Reliever Cherry', 'Z56946051', 'Adwe Feverx Acetaminophen Caplets, 500 mgExtra Strength', 'Childrens Tukol Acetaminophen Fever Reducer Pain Reducer', 'DOLO-NeuroBion Acetaminophen MaxExtended-Release 650 mg', 'F3096-1731', 'F48B493F-B1FD-410C-AA0A-F40EC71A0689', 'Bayer Select Maximum Strength Headache Pain Relief Formula', 'Headache ManNo More Pills, One Shot, Headache Pain Relief', 'Paracetamol, British Pharmacopoeia (BP) Reference Standard', 'Paracetamol, European Pharmacopoeia (EP) Reference Standard', 'Pluspharma Extra Strength Pain Reliever,fever Reducer 500 mg', 'PlusPharma Extra StrengthPAIN RELIEVER,FEVER REDUCER 500 mg', 'Acetaminophen, United States Pharmacopeia (USP) Reference Standard', 'Acetaminophen, meets USP testing specifications, 98.0-102.0%, powder', 'Fridababy Children Pain and Fever Acetaminophen 160mg per 5mL vial 10ct', 'Acetaminophen, Pharmaceutical Secondary Standard; Certified Reference Material', 'InChI=1/C8H9NO2/c1-6(10)9-7-2-4-8(11)5-3-7/h2-5,11H,1H3,(H,9,10', 'Paracetamol for equipment qualification, EuropePharmacopoeia (EP) Reference Standard']\n"
     ]
    }
   ],
   "source": [
    "tylenol = pcp.Compound.from_cid(1983)\n",
    "print(tylenol.iupac_name)\n",
    "print(tylenol.molecular_weight)\n",
    "print(tylenol.molecular_formula)\n",
    "print(tylenol.synonyms)"
   ]
  },
  {
   "cell_type": "code",
   "execution_count": 18,
   "id": "5a3125cf-0731-47db-b28b-9f9a3d067c75",
   "metadata": {},
   "outputs": [
    {
     "data": {
      "text/plain": [
       "[Compound(241)]"
      ]
     },
     "execution_count": 18,
     "metadata": {},
     "output_type": "execute_result"
    }
   ],
   "source": [
    "pcp.get_compounds('benzene', 'name')"
   ]
  },
  {
   "cell_type": "code",
   "execution_count": 19,
   "id": "78d70164-55a7-4000-87ca-38bb65f05873",
   "metadata": {},
   "outputs": [
    {
     "name": "stdout",
     "output_type": "stream",
     "text": [
      "C1=CC=CC=C1\n"
     ]
    }
   ],
   "source": [
    "benzene = pcp.Compound.from_cid(241)\n",
    "print(benzene.isomeric_smiles)"
   ]
  },
  {
   "cell_type": "markdown",
   "id": "0ab486f6-def9-4dac-9469-47c512235114",
   "metadata": {},
   "source": [
    "### Dataframes from PubChemPy\n",
    "\n",
    "You can import information from PubChem in the form of a pandas DataFrame."
   ]
  },
  {
   "cell_type": "code",
   "execution_count": 20,
   "id": "5fb3e27e-cd6d-4682-a2ee-a90ba0a1053d",
   "metadata": {},
   "outputs": [],
   "source": [
    "df1 = pcp.get_compounds('C20H41Br', 'formula', as_dataframe=True)\n",
    "df2 = pcp.get_substances([9,99,999,9999], as_dataframe=True)\n",
    "df3 = pcp.get_properties(['isomeric_smiles', 'xlogp', 'rotatable_bond_count'], 'C20H41Br', 'formula', as_dataframe=True)"
   ]
  },
  {
   "cell_type": "code",
   "execution_count": null,
   "id": "a8fb6841-875e-452b-9fc1-18f2c8b78153",
   "metadata": {},
   "outputs": [],
   "source": [
    "df3.head()"
   ]
  },
  {
   "cell_type": "code",
   "execution_count": null,
   "id": "52d17020-76d6-460f-b93b-bbe5aa60b5a8",
   "metadata": {},
   "outputs": [],
   "source": [
    "df2.head()"
   ]
  },
  {
   "cell_type": "code",
   "execution_count": null,
   "id": "4e11f0a2-ebb9-48af-a384-04ad2bd3982c",
   "metadata": {},
   "outputs": [],
   "source": [
    "df1.head()"
   ]
  },
  {
   "cell_type": "code",
   "execution_count": null,
   "id": "b299b8d9-781a-4ed3-93fd-c9b21110d7a6",
   "metadata": {},
   "outputs": [],
   "source": [
    "# Download image files from PubChem\n",
    "\n",
    "pcp.download('PNG', 'images/asp.png', 'Aspirin', 'name', overwrite=True)\n",
    "pcp.download('PNG', 'images/acet.png', 'Acetaminophen', 'name', overwrite=True)\n",
    "pcp.download('CSV', 'data/s.csv', [1,2,3], operation='property/CanonicalSMILES,IsomericSMILES', overwrite=True)\n"
   ]
  },
  {
   "cell_type": "code",
   "execution_count": null,
   "id": "66b1ee5d-e975-49f8-a695-c5df230692ce",
   "metadata": {},
   "outputs": [],
   "source": [
    "#Display the aspirin image\n",
    "\n",
    "from IPython.display import Image, display\n",
    "\n",
    "image_paths = ['images/asp.png', 'images/acet.png']\n",
    "\n",
    "for image_path in image_paths:\n",
    "    display(Image(filename=image_path))"
   ]
  },
  {
   "cell_type": "code",
   "execution_count": null,
   "id": "b9063ea1-74c4-4490-a21b-fde2f2bf1faf",
   "metadata": {},
   "outputs": [],
   "source": [
    "# pcp.download('SDF', 'images/asp.sdf', 'Aspirin', 'name', overwrite=True)\n",
    "cid = pcp.get_cids('acetaminophen', 'name')\n",
    "cid"
   ]
  },
  {
   "cell_type": "code",
   "execution_count": null,
   "id": "0b504778-fcf6-4787-902c-79bedf42284b",
   "metadata": {
    "scrolled": true
   },
   "outputs": [],
   "source": [
    "# Visualize the aspirin in 3D\n",
    "\n",
    "import py3Dmol\n",
    "py3Dmol.view()\n",
    "view = py3Dmol.view(width = 680, height = 250, query ='cid:3345', viewergrid = (1,3), linked = True)\n",
    "\n",
    "view.setStyle({'line': {'linewidth': 8}}, viewer = (0,0))\n",
    "view.setStyle({'stick': {'colorscheme':'cyanCarbon'}}, viewer = (0,1))\n",
    "view.setStyle({'sphere': {}}, viewer = (0,2))\n",
    "\n",
    "view.setBackgroundColor('#ebf4fb', viewer = (0,0))\n",
    "view.setBackgroundColor('#cda9fc', viewer = (0,1))\n",
    "view.setBackgroundColor('#e6e6e6', viewer = (0,2))"
   ]
  },
  {
   "cell_type": "code",
   "execution_count": null,
   "id": "5a2d7010-5c56-4f4c-b618-b69f711432d0",
   "metadata": {},
   "outputs": [],
   "source": []
  }
 ],
 "metadata": {
  "kernelspec": {
   "display_name": "Python 3 (ipykernel)",
   "language": "python",
   "name": "python3"
  },
  "language_info": {
   "codemirror_mode": {
    "name": "ipython",
    "version": 3
   },
   "file_extension": ".py",
   "mimetype": "text/x-python",
   "name": "python",
   "nbconvert_exporter": "python",
   "pygments_lexer": "ipython3",
   "version": "3.12.2"
  }
 },
 "nbformat": 4,
 "nbformat_minor": 5
}
